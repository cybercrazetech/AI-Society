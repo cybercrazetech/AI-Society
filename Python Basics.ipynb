{
 "cells": [
  {
   "cell_type": "markdown",
   "id": "4910b46b",
   "metadata": {},
   "source": [
    "#Note for practice question, learn to search google and edit others work."
   ]
  },
  {
   "cell_type": "code",
   "execution_count": 1,
   "id": "2eeeb401",
   "metadata": {},
   "outputs": [
    {
     "name": "stdout",
     "output_type": "stream",
     "text": [
      "<class 'str'>\n",
      "<class 'int'>\n",
      "<class 'float'>\n",
      "<class 'list'>\n"
     ]
    }
   ],
   "source": [
    "#Data Types:\n",
    "print(type(\"Hello World\")) #--> str\n",
    "print(type(90)) #--> int\n",
    "print(type(9.88)) #--> float\n",
    "print(type([1,2,3,'4'])) #--> list\n",
    "#array contains only one type of data, list can have multiple types\n",
    "#e.g array=[1,2,3,4] list=[1,2,3,'4']\n",
    "#list in list/array in array(multi-dimensional)-[[1,2,3],[[12],12],3,4,'5']"
   ]
  },
  {
   "cell_type": "code",
   "execution_count": 2,
   "id": "fc15428a",
   "metadata": {},
   "outputs": [
    {
     "name": "stdout",
     "output_type": "stream",
     "text": [
      "1\n",
      "5\n",
      "1\n",
      "I'm Ian\n",
      "I'm Ian\n",
      "1\n",
      "da\n"
     ]
    }
   ],
   "source": [
    "#Convert DataTypes:\n",
    "print(int(\"1\")) #--> 1\n",
    "print(int(5.898989989)) #--> 5\n",
    "print(str(1)) #--> \"1\"\n",
    "\n",
    "#Prevent quoting errors:\n",
    "print(\"I'm Ian\") #--> using different types of quote\n",
    "print('I\\'m Ian') #--> using \\ to escape string '\n",
    "\n",
    "#Accessing values within list/array\n",
    "print([1,2,3,4][0]) #--> 1\n",
    "print(['as','assdad','da'][2]) #--> 'da'"
   ]
  },
  {
   "cell_type": "code",
   "execution_count": 3,
   "id": "91eaa5a1",
   "metadata": {},
   "outputs": [
    {
     "name": "stdout",
     "output_type": "stream",
     "text": [
      "1\n",
      "[1, 2, 3, 4]\n",
      "3\n"
     ]
    }
   ],
   "source": [
    "#Variables: assign a name to a value\n",
    "a=\"1\"\n",
    "print(int(a))\n",
    "mylist=[1,2,3,4]\n",
    "print(mylist)\n",
    "print(mylist[2])"
   ]
  },
  {
   "cell_type": "code",
   "execution_count": 4,
   "id": "93c13bef",
   "metadata": {},
   "outputs": [
    {
     "name": "stdout",
     "output_type": "stream",
     "text": [
      "2\n",
      "3\n",
      "-1\n",
      "0.5\n"
     ]
    }
   ],
   "source": [
    "#Simple Operations\n",
    "a=1\n",
    "b=2\n",
    "print(a*b)\n",
    "print(a+b)\n",
    "print(a-b)\n",
    "print(a/b)"
   ]
  },
  {
   "cell_type": "code",
   "execution_count": 5,
   "id": "088e41a1",
   "metadata": {},
   "outputs": [
    {
     "name": "stdout",
     "output_type": "stream",
     "text": [
      "1\n",
      "4\n",
      "81\n"
     ]
    }
   ],
   "source": [
    "#Advanced Operations\n",
    "a=9\n",
    "b=2\n",
    "print(a%b)# --> find remainder when a/b\n",
    "print(a//b)#quotient, c  a/b=c rd\n",
    "print(a**b)#power: 9^2"
   ]
  },
  {
   "cell_type": "markdown",
   "id": "6cd0bae3",
   "metadata": {},
   "source": [
    "#Compare values\n",
    "a=9\n",
    "b=2\n",
    "a>b --> False\n",
    "a<b --> True\n",
    "a>=b --> True\n",
    "a<=b --> False\n",
    "a==b --> False\n",
    "\n",
    "#NOTE:\n",
    "a=b --> assign b's value to a\n",
    "a==b --> True or False"
   ]
  },
  {
   "cell_type": "code",
   "execution_count": 6,
   "id": "4663cf92",
   "metadata": {},
   "outputs": [
    {
     "name": "stdout",
     "output_type": "stream",
     "text": [
      "done\n",
      "done\n",
      "done\n",
      "done\n",
      "done\n",
      "done\n",
      "done\n",
      "done\n",
      "done\n",
      "done\n",
      "done\n",
      "done\n",
      "done\n",
      "done\n",
      "done\n"
     ]
    }
   ],
   "source": [
    "#While Loops\n",
    "x=0\n",
    "while x<15:\n",
    "    print('done')\n",
    "    x=x+1"
   ]
  },
  {
   "cell_type": "code",
   "execution_count": 7,
   "id": "27b68b23",
   "metadata": {
    "scrolled": false
   },
   "outputs": [
    {
     "name": "stdout",
     "output_type": "stream",
     "text": [
      "1\n",
      "2\n",
      "4\n",
      "5\n",
      "0\n",
      "1\n",
      "2\n",
      "3\n",
      "4\n",
      "5\n"
     ]
    }
   ],
   "source": [
    "#For Loops\n",
    "a=[1,2,4,5]\n",
    "for i in a:# --> takes each value as i each time\n",
    "    print(i)\n",
    "for i in range(6):#range(6)-->[0,1,2,3,4,5]\n",
    "    print(i)"
   ]
  },
  {
   "cell_type": "code",
   "execution_count": 8,
   "id": "e848049e",
   "metadata": {},
   "outputs": [
    {
     "name": "stdout",
     "output_type": "stream",
     "text": [
      "1\n",
      "2\n",
      "3\n",
      "4\n",
      "5\n"
     ]
    }
   ],
   "source": [
    "#break used to escape from the loop:\n",
    "x=0\n",
    "while True:\n",
    "    x+=1\n",
    "    print(x)\n",
    "    if x==5:break"
   ]
  },
  {
   "cell_type": "code",
   "execution_count": 9,
   "id": "a521d520",
   "metadata": {},
   "outputs": [
    {
     "name": "stdout",
     "output_type": "stream",
     "text": [
      "success\n",
      "a>b\n"
     ]
    }
   ],
   "source": [
    "#IF-ELIF-ELSE\n",
    "a=5\n",
    "b=3\n",
    "if a>b:\n",
    "    print('success')\n",
    "else:\n",
    "    print('fail')\n",
    "\n",
    "if a>b:\n",
    "    print('a>b')\n",
    "elif a==b:\n",
    "    print('a=b')\n",
    "elif a*b==1:\n",
    "    print('1')\n",
    "elif a**b==1:\n",
    "    print('2')\n",
    "else:\n",
    "    print('a<b')"
   ]
  },
  {
   "cell_type": "code",
   "execution_count": 10,
   "id": "90014d45",
   "metadata": {},
   "outputs": [
    {
     "name": "stdout",
     "output_type": "stream",
     "text": [
      "I'm Ian\n",
      "as\n",
      "5\n"
     ]
    }
   ],
   "source": [
    "#Function:\n",
    "def Ian():#--> start a function\n",
    "    print(\"I'm Ian\")\n",
    "\n",
    "Ian()\n",
    "\n",
    "def Ian(a,b,c,d):\n",
    "    print(a)\n",
    "    print(b+c)\n",
    "    \n",
    "Ian('as',2,3,'ashjd')"
   ]
  },
  {
   "cell_type": "code",
   "execution_count": 11,
   "id": "3c51c322",
   "metadata": {},
   "outputs": [
    {
     "data": {
      "text/plain": [
       "7"
      ]
     },
     "execution_count": 11,
     "metadata": {},
     "output_type": "execute_result"
    }
   ],
   "source": [
    "#library\n",
    "import math\n",
    "\n",
    "int(math.sqrt(49))"
   ]
  },
  {
   "cell_type": "code",
   "execution_count": 12,
   "id": "a7ebf55d",
   "metadata": {
    "scrolled": true
   },
   "outputs": [
    {
     "name": "stdout",
     "output_type": "stream",
     "text": [
      "as\n",
      "as\n",
      "enter a value please: 12\n",
      "12\n"
     ]
    }
   ],
   "source": [
    "a=input() #--> always get values as a str\n",
    "print(a)\n",
    "a=int(input(\"enter a value please: \")) #--> can add words before user input\n",
    "print(a)"
   ]
  },
  {
   "cell_type": "code",
   "execution_count": 13,
   "id": "7aaad42c",
   "metadata": {},
   "outputs": [
    {
     "data": {
      "text/plain": [
       "[1, 1.5, 2, 3, 4, 5]"
      ]
     },
     "execution_count": 13,
     "metadata": {},
     "output_type": "execute_result"
    }
   ],
   "source": [
    "#adding values to string and list\n",
    "a=[1,2,3,4]\n",
    "a.append(5)\n",
    "a.insert(1,1.5) #--> .insert(index,value)\n",
    "a"
   ]
  },
  {
   "cell_type": "markdown",
   "id": "e2423a70",
   "metadata": {},
   "source": [
    "Practice Question 1:\n",
    "ask for the client input either 'y' or 'n'\n",
    "if 'y' --> print random number between 0-1\n",
    "if 'n' --> print random number between 0-100(integer)"
   ]
  },
  {
   "cell_type": "code",
   "execution_count": 14,
   "id": "857221fd",
   "metadata": {},
   "outputs": [
    {
     "name": "stdout",
     "output_type": "stream",
     "text": [
      "Please enter 'y' or 'n': n\n",
      "79\n"
     ]
    }
   ],
   "source": [
    "import random\n",
    "\n",
    "a=input(\"Please enter 'y' or 'n': \")\n",
    "if a=='y':\n",
    "    print(random.uniform(0, 1))\n",
    "elif a=='n':\n",
    "    print(random.randint(0,100))"
   ]
  },
  {
   "cell_type": "markdown",
   "id": "e996504d",
   "metadata": {},
   "source": [
    "Practice Question 2:\n",
    "Find the number of palindromes between 10-1000\n",
    "Palindromes are numbers equals to each other when reversed"
   ]
  },
  {
   "cell_type": "code",
   "execution_count": 15,
   "id": "40ba754a",
   "metadata": {},
   "outputs": [
    {
     "name": "stdout",
     "output_type": "stream",
     "text": [
      "99\n"
     ]
    }
   ],
   "source": [
    "x=0\n",
    "for i in range(10,1001): #--> range(10,1001)=[10,11,12,...,1000]\n",
    "    if str(i)==str(i)[::-1]:\n",
    "        x+=1\n",
    "        \n",
    "print(x)"
   ]
  }
 ],
 "metadata": {
  "kernelspec": {
   "display_name": "Python 3",
   "language": "python",
   "name": "python3"
  },
  "language_info": {
   "codemirror_mode": {
    "name": "ipython",
    "version": 3
   },
   "file_extension": ".py",
   "mimetype": "text/x-python",
   "name": "python",
   "nbconvert_exporter": "python",
   "pygments_lexer": "ipython3",
   "version": "3.6.9"
  }
 },
 "nbformat": 4,
 "nbformat_minor": 5
}
