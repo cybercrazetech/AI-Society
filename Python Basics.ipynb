{
 "cells": [
  {
   "cell_type": "markdown",
   "id": "801b2f32",
   "metadata": {},
   "source": [
    "Data Types:\n",
    "str-\"Hello World\"\n",
    "int-90\n",
    "float-9.88\n",
    "list/array-[1,2,3,4,'5'], [1,2,3,4],['sd','sda']\n",
    "list in list/array in array-[[1,2,3],[[12],12],3,4,'5']"
   ]
  },
  {
   "cell_type": "code",
   "execution_count": null,
   "id": "230f6ee1",
   "metadata": {},
   "outputs": [],
   "source": [
    "Convert DataTypes:\n",
    "\"1\"\n",
    "int(\"1\") --> 1\n",
    "5.898989 --> float\n",
    "int(5.898989989) --> 5\n",
    "1\n",
    "str(1) --> \"1\"\n",
    "[1,2,3,4][0] --> 1\n",
    "['as','assdad','da'][2] --> 'da'\n",
    "\n",
    "\"I'm Ian\"\n",
    "'I\\'m Ian'"
   ]
  },
  {
   "cell_type": "code",
   "execution_count": 3,
   "id": "1041d809",
   "metadata": {},
   "outputs": [
    {
     "name": "stdout",
     "output_type": "stream",
     "text": [
      "1\n",
      "2\n"
     ]
    }
   ],
   "source": [
    "#Variables:\n",
    "a=\"1\"\n",
    "print(int(a))\n",
    "mylist=[1,2,3,4]\n",
    "print(mylist[1])"
   ]
  },
  {
   "cell_type": "code",
   "execution_count": 7,
   "id": "8acc710a",
   "metadata": {},
   "outputs": [
    {
     "name": "stdout",
     "output_type": "stream",
     "text": [
      "2\n",
      "3\n",
      "-1\n",
      "0.5\n"
     ]
    }
   ],
   "source": [
    "#Operations\n",
    "a=1\n",
    "b=2\n",
    "print(a*b)\n",
    "print(a+b)\n",
    "print(a-b)\n",
    "print(a/b)\n",
    "a>b --> False\n",
    "a<b --> True\n",
    "a>=b\n",
    "a<=b\n",
    "a=b --> assign b's value to a\n",
    "a==b --> True or False"
   ]
  },
  {
   "cell_type": "code",
   "execution_count": 12,
   "id": "2847a02c",
   "metadata": {},
   "outputs": [
    {
     "name": "stdout",
     "output_type": "stream",
     "text": [
      "1\n",
      "4\n",
      "81\n"
     ]
    }
   ],
   "source": [
    "#Advanced Operations\n",
    "a=9\n",
    "b=2\n",
    "print(a%b)# --> find remainder when a/b\n",
    "print(a//b)#quotient, c  a/b=c rd\n",
    "print(a**b)#power: 9^2"
   ]
  },
  {
   "cell_type": "code",
   "execution_count": 15,
   "id": "4ac11395",
   "metadata": {},
   "outputs": [
    {
     "name": "stdout",
     "output_type": "stream",
     "text": [
      "done\n",
      "done\n",
      "done\n",
      "done\n",
      "done\n",
      "done\n",
      "done\n",
      "done\n",
      "done\n",
      "done\n",
      "done\n",
      "done\n",
      "done\n",
      "done\n",
      "done\n"
     ]
    }
   ],
   "source": [
    "#Loops\n",
    "x=0\n",
    "while x<15:\n",
    "    print('done')\n",
    "    x=x+1"
   ]
  },
  {
   "cell_type": "code",
   "execution_count": 18,
   "id": "f80057ec",
   "metadata": {
    "scrolled": true
   },
   "outputs": [
    {
     "name": "stdout",
     "output_type": "stream",
     "text": [
      "1\n",
      "2\n",
      "4\n",
      "5\n",
      "0\n",
      "done\n",
      "1\n",
      "done\n",
      "2\n",
      "done\n",
      "3\n",
      "done\n",
      "4\n",
      "done\n",
      "5\n",
      "done\n"
     ]
    }
   ],
   "source": [
    "a=[1,2,4,5]\n",
    "for i in a:# --> takes each value as i each time\n",
    "    print(i)\n",
    "for i in range(6):#range(6)-->[0,1,2,3,4,5]\n",
    "    print(i)\n",
    "    print('done')"
   ]
  },
  {
   "cell_type": "code",
   "execution_count": 19,
   "id": "85cd166e",
   "metadata": {},
   "outputs": [
    {
     "name": "stdout",
     "output_type": "stream",
     "text": [
      "success\n",
      "a>b\n"
     ]
    }
   ],
   "source": [
    "#IF-ELIF-ELSE\n",
    "a=5\n",
    "b=3\n",
    "if a>b:\n",
    "    print('success')\n",
    "else:\n",
    "    print('fail')\n",
    "\n",
    "if a>b:\n",
    "    print('a>b')\n",
    "elif a==b:\n",
    "    print('a=b')\n",
    "elif a*b==1:\n",
    "    print('1')\n",
    "elif a**b==1:\n",
    "    print('2')\n",
    "else:\n",
    "    print('a<b')"
   ]
  },
  {
   "cell_type": "code",
   "execution_count": 26,
   "id": "fe9d6206",
   "metadata": {},
   "outputs": [
    {
     "name": "stdout",
     "output_type": "stream",
     "text": [
      "I'm Ian\n"
     ]
    }
   ],
   "source": [
    "#Function:\n",
    "def Ian():#--> start a function\n",
    "    print(\"I'm Ian\")\n",
    "\n",
    "Ian()"
   ]
  },
  {
   "cell_type": "code",
   "execution_count": 30,
   "id": "c387292e",
   "metadata": {},
   "outputs": [
    {
     "name": "stdout",
     "output_type": "stream",
     "text": [
      "as\n",
      "5\n"
     ]
    }
   ],
   "source": [
    "def Ian(a,b,c,d):\n",
    "    print(a)\n",
    "    print(b+c)\n",
    "    \n",
    "Ian('as',2,3,'ashjd')"
   ]
  },
  {
   "cell_type": "code",
   "execution_count": 25,
   "id": "a956253a",
   "metadata": {},
   "outputs": [
    {
     "data": {
      "text/plain": [
       "7"
      ]
     },
     "execution_count": 25,
     "metadata": {},
     "output_type": "execute_result"
    }
   ],
   "source": [
    "import math\n",
    "\n",
    "int(math.sqrt(49))"
   ]
  },
  {
   "cell_type": "code",
   "execution_count": 41,
   "id": "dc510360",
   "metadata": {
    "scrolled": true
   },
   "outputs": [
    {
     "name": "stdout",
     "output_type": "stream",
     "text": [
      "12\n",
      "12\n"
     ]
    }
   ],
   "source": [
    "a=input()\n",
    "print(int(a))"
   ]
  },
  {
   "cell_type": "code",
   "execution_count": 39,
   "id": "ef0aaada",
   "metadata": {},
   "outputs": [
    {
     "data": {
      "text/plain": [
       "[1, 1.5, 2, 3, 4, 5]"
      ]
     },
     "execution_count": 39,
     "metadata": {},
     "output_type": "execute_result"
    }
   ],
   "source": [
    "'''\n",
    "1+2\n",
    "'as'+'df'\n",
    "'''\n",
    "a=[1,2,3,4]\n",
    "a.append(5)\n",
    "a.insert(1,1.5)\n",
    "a"
   ]
  },
  {
   "cell_type": "markdown",
   "id": "98d886dc",
   "metadata": {},
   "source": [
    "ask for the client input either 'y' or 'n'\n",
    "if 'y' --> print random number between 0-1\n",
    "if 'n' --> print random number between 0-100(integer)"
   ]
  }
 ],
 "metadata": {
  "kernelspec": {
   "display_name": "Python 3",
   "language": "python",
   "name": "python3"
  },
  "language_info": {
   "codemirror_mode": {
    "name": "ipython",
    "version": 3
   },
   "file_extension": ".py",
   "mimetype": "text/x-python",
   "name": "python",
   "nbconvert_exporter": "python",
   "pygments_lexer": "ipython3",
   "version": "3.6.9"
  }
 },
 "nbformat": 4,
 "nbformat_minor": 5
}
