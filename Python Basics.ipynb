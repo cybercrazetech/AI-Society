{
 "cells": [
  {
   "cell_type": "markdown",
   "id": "ed1781e5",
   "metadata": {},
   "source": [
    "#Note for practice question, learn to search google and edit others work."
   ]
  },
  {
   "cell_type": "code",
   "execution_count": 1,
   "id": "d6f7b67b",
   "metadata": {},
   "outputs": [
    {
     "name": "stdout",
     "output_type": "stream",
     "text": [
      "<class 'str'>\n",
      "<class 'int'>\n",
      "<class 'float'>\n",
      "<class 'list'>\n"
     ]
    }
   ],
   "source": [
    "#Data Types:\n",
    "print(type(\"Hello World\")) #--> str\n",
    "print(type(90)) #--> int\n",
    "print(type(9.88)) #--> float\n",
    "print(type([1,2,3,'4'])) #--> list\n",
    "#array contains only one type of data, list can have multiple types\n",
    "#e.g array=[1,2,3,4] list=[1,2,3,'4']\n",
    "#list in list/array in array(multi-dimensional)-[[1,2,3],[[12],12],3,4,'5']"
   ]
  },
  {
   "cell_type": "code",
   "execution_count": 2,
   "id": "71ac058f",
   "metadata": {},
   "outputs": [
    {
     "name": "stdout",
     "output_type": "stream",
     "text": [
      "1\n",
      "5\n",
      "1\n",
      "I'm Ian\n",
      "I'm Ian\n",
      "1\n",
      "da\n"
     ]
    }
   ],
   "source": [
    "#Convert DataTypes:\n",
    "print(int(\"1\")) #--> 1\n",
    "print(int(5.898989989)) #--> 5\n",
    "print(str(1)) #--> \"1\"\n",
    "\n",
    "#Prevent quoting errors:\n",
    "print(\"I'm Ian\") #--> using different types of quote\n",
    "print('I\\'m Ian') #--> using \\ to escape string '\n",
    "\n",
    "#Accessing values within list/array\n",
    "print([1,2,3,4][0]) #--> 1\n",
    "print(['as','assdad','da'][2]) #--> 'da'"
   ]
  },
  {
   "cell_type": "code",
   "execution_count": 3,
   "id": "ecdafb3b",
   "metadata": {},
   "outputs": [
    {
     "name": "stdout",
     "output_type": "stream",
     "text": [
      "1\n",
      "[1, 2, 3, 4]\n",
      "3\n"
     ]
    }
   ],
   "source": [
    "#Variables: assign a name to a value\n",
    "a=\"1\"\n",
    "print(int(a))\n",
    "mylist=[1,2,3,4]\n",
    "print(mylist)\n",
    "print(mylist[2])"
   ]
  },
  {
   "cell_type": "code",
   "execution_count": 4,
   "id": "19b562be",
   "metadata": {},
   "outputs": [
    {
     "name": "stdout",
     "output_type": "stream",
     "text": [
      "2\n",
      "3\n",
      "-1\n",
      "0.5\n"
     ]
    }
   ],
   "source": [
    "#Simple Operations\n",
    "a=1\n",
    "b=2\n",
    "print(a*b)\n",
    "print(a+b)\n",
    "print(a-b)\n",
    "print(a/b)"
   ]
  },
  {
   "cell_type": "code",
   "execution_count": 5,
   "id": "053e639c",
   "metadata": {},
   "outputs": [
    {
     "name": "stdout",
     "output_type": "stream",
     "text": [
      "1\n",
      "4\n",
      "81\n"
     ]
    }
   ],
   "source": [
    "#Advanced Operations\n",
    "a=9\n",
    "b=2\n",
    "print(a%b)# --> find remainder when a/b\n",
    "print(a//b)#quotient, c  a/b=c rd\n",
    "print(a**b)#power: 9^2"
   ]
  },
  {
   "cell_type": "code",
   "execution_count": null,
   "id": "19aeb41e",
   "metadata": {},
   "outputs": [],
   "source": [
    "#Compare values\n",
    "a=9\n",
    "b=2\n",
    "a>b --> False\n",
    "a<b --> True\n",
    "a>=b --> True\n",
    "a<=b --> False\n",
    "a==b --> False\n",
    "\n",
    "#NOTE:\n",
    "a=b --> assign b's value to a\n",
    "a==b --> True or False"
   ]
  },
  {
   "cell_type": "code",
   "execution_count": 6,
   "id": "01aaf9bb",
   "metadata": {},
   "outputs": [
    {
     "name": "stdout",
     "output_type": "stream",
     "text": [
      "done\n",
      "done\n",
      "done\n",
      "done\n",
      "done\n",
      "done\n",
      "done\n",
      "done\n",
      "done\n",
      "done\n",
      "done\n",
      "done\n",
      "done\n",
      "done\n",
      "done\n"
     ]
    }
   ],
   "source": [
    "#While Loops\n",
    "x=0\n",
    "while x<15:\n",
    "    print('done')\n",
    "    x=x+1"
   ]
  },
  {
   "cell_type": "code",
   "execution_count": 7,
   "id": "07aa41c7",
   "metadata": {
    "scrolled": false
   },
   "outputs": [
    {
     "name": "stdout",
     "output_type": "stream",
     "text": [
      "1\n",
      "2\n",
      "4\n",
      "5\n",
      "0\n",
      "1\n",
      "2\n",
      "3\n",
      "4\n",
      "5\n"
     ]
    }
   ],
   "source": [
    "#For Loops\n",
    "a=[1,2,4,5]\n",
    "for i in a:# --> takes each value as i each time\n",
    "    print(i)\n",
    "for i in range(6):#range(6)-->[0,1,2,3,4,5]\n",
    "    print(i)"
   ]
  },
  {
   "cell_type": "code",
   "execution_count": 8,
   "id": "9a51e3d2",
   "metadata": {},
   "outputs": [
    {
     "name": "stdout",
     "output_type": "stream",
     "text": [
      "1\n",
      "2\n",
      "3\n",
      "4\n",
      "5\n"
     ]
    }
   ],
   "source": [
    "#break used to escape from the loop:\n",
    "x=0\n",
    "while True:\n",
    "    x+=1\n",
    "    print(x)\n",
    "    if x==5:break"
   ]
  },
  {
   "cell_type": "code",
   "execution_count": 9,
   "id": "a04efdd7",
   "metadata": {},
   "outputs": [
    {
     "name": "stdout",
     "output_type": "stream",
     "text": [
      "success\n",
      "a>b\n"
     ]
    }
   ],
   "source": [
    "#IF-ELIF-ELSE\n",
    "a=5\n",
    "b=3\n",
    "if a>b:\n",
    "    print('success')\n",
    "else:\n",
    "    print('fail')\n",
    "\n",
    "if a>b:\n",
    "    print('a>b')\n",
    "elif a==b:\n",
    "    print('a=b')\n",
    "elif a*b==1:\n",
    "    print('1')\n",
    "elif a**b==1:\n",
    "    print('2')\n",
    "else:\n",
    "    print('a<b')"
   ]
  },
  {
   "cell_type": "code",
   "execution_count": 10,
   "id": "51e828ce",
   "metadata": {},
   "outputs": [
    {
     "name": "stdout",
     "output_type": "stream",
     "text": [
      "I'm Ian\n",
      "as\n",
      "5\n"
     ]
    }
   ],
   "source": [
    "#Function:\n",
    "def Ian():#--> start a function\n",
    "    print(\"I'm Ian\")\n",
    "\n",
    "Ian()\n",
    "\n",
    "def Ian(a,b,c,d):\n",
    "    print(a)\n",
    "    print(b+c)\n",
    "    \n",
    "Ian('as',2,3,'ashjd')"
   ]
  },
  {
   "cell_type": "code",
   "execution_count": 11,
   "id": "5eb33c73",
   "metadata": {},
   "outputs": [
    {
     "data": {
      "text/plain": [
       "7"
      ]
     },
     "execution_count": 11,
     "metadata": {},
     "output_type": "execute_result"
    }
   ],
   "source": [
    "#library\n",
    "import math\n",
    "\n",
    "int(math.sqrt(49))"
   ]
  },
  {
   "cell_type": "code",
   "execution_count": 12,
   "id": "cdd2b495",
   "metadata": {
    "scrolled": true
   },
   "outputs": [
    {
     "name": "stdout",
     "output_type": "stream",
     "text": [
      "as\n",
      "as\n",
      "enter a value please: 12\n",
      "12\n"
     ]
    }
   ],
   "source": [
    "a=input() #--> always get values as a str\n",
    "print(a)\n",
    "a=int(input(\"enter a value please: \")) #--> can add words before user input\n",
    "print(a)"
   ]
  },
  {
   "cell_type": "code",
   "execution_count": 13,
   "id": "e48de412",
   "metadata": {},
   "outputs": [
    {
     "data": {
      "text/plain": [
       "[1, 1.5, 2, 3, 4, 5]"
      ]
     },
     "execution_count": 13,
     "metadata": {},
     "output_type": "execute_result"
    }
   ],
   "source": [
    "#adding values to string and list\n",
    "a=[1,2,3,4]\n",
    "a.append(5)\n",
    "a.insert(1,1.5) #--> .insert(index,value)\n",
    "a"
   ]
  },
  {
   "cell_type": "code",
   "execution_count": null,
   "id": "d51335c9",
   "metadata": {},
   "outputs": [],
   "source": [
    "Practice Question 1:\n",
    "\n",
    "ask for the client input either 'y' or 'n'\n",
    "if 'y' --> print random number between 0-1\n",
    "if 'n' --> print random number between 0-100(integer)"
   ]
  },
  {
   "cell_type": "code",
   "execution_count": 14,
   "id": "cb8812fa",
   "metadata": {},
   "outputs": [
    {
     "name": "stdout",
     "output_type": "stream",
     "text": [
      "Please enter 'y' or 'n': n\n",
      "79\n"
     ]
    }
   ],
   "source": [
    "import random\n",
    "\n",
    "a=input(\"Please enter 'y' or 'n': \")\n",
    "if a=='y':\n",
    "    print(random.uniform(0, 1))\n",
    "elif a=='n':\n",
    "    print(random.randint(0,100))"
   ]
  },
  {
   "cell_type": "code",
   "execution_count": null,
   "id": "db125634",
   "metadata": {},
   "outputs": [],
   "source": [
    "Practice Question 2:\n",
    "\n",
    "Find the number of palindromes between 10-1000\n",
    "Palindromes are numbers equals to each other when reversed"
   ]
  },
  {
   "cell_type": "code",
   "execution_count": 15,
   "id": "43995378",
   "metadata": {},
   "outputs": [
    {
     "name": "stdout",
     "output_type": "stream",
     "text": [
      "99\n"
     ]
    }
   ],
   "source": [
    "x=0\n",
    "for i in range(10,1001): #--> range(10,1001)=[10,11,12,...,1000]\n",
    "    if str(i)==str(i)[::-1]:\n",
    "        x+=1\n",
    "        \n",
    "print(x)"
   ]
  }
 ],
 "metadata": {
  "kernelspec": {
   "display_name": "Python 3",
   "language": "python",
   "name": "python3"
  },
  "language_info": {
   "codemirror_mode": {
    "name": "ipython",
    "version": 3
   },
   "file_extension": ".py",
   "mimetype": "text/x-python",
   "name": "python",
   "nbconvert_exporter": "python",
   "pygments_lexer": "ipython3",
   "version": "3.6.9"
  }
 },
 "nbformat": 4,
 "nbformat_minor": 5
}
