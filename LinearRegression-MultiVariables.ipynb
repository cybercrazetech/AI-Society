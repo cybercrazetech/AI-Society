{
 "cells": [
  {
   "cell_type": "markdown",
   "id": "f78156dd",
   "metadata": {},
   "source": [
    "Equation: y=m1x1+m2x2+m3x3+...+mnxn+c"
   ]
  },
  {
   "cell_type": "code",
   "execution_count": 1,
   "id": "a2231cd8",
   "metadata": {},
   "outputs": [],
   "source": [
    "#Setting up libraries\n",
    "import pandas as pd\n",
    "import numpy as np\n",
    "from sklearn import linear_model"
   ]
  },
  {
   "cell_type": "code",
   "execution_count": 2,
   "id": "29f34283",
   "metadata": {},
   "outputs": [
    {
     "data": {
      "text/html": [
       "<div>\n",
       "<style scoped>\n",
       "    .dataframe tbody tr th:only-of-type {\n",
       "        vertical-align: middle;\n",
       "    }\n",
       "\n",
       "    .dataframe tbody tr th {\n",
       "        vertical-align: top;\n",
       "    }\n",
       "\n",
       "    .dataframe thead th {\n",
       "        text-align: right;\n",
       "    }\n",
       "</style>\n",
       "<table border=\"1\" class=\"dataframe\">\n",
       "  <thead>\n",
       "    <tr style=\"text-align: right;\">\n",
       "      <th></th>\n",
       "      <th>area</th>\n",
       "      <th>bedrooms</th>\n",
       "      <th>age</th>\n",
       "      <th>price</th>\n",
       "    </tr>\n",
       "  </thead>\n",
       "  <tbody>\n",
       "    <tr>\n",
       "      <th>0</th>\n",
       "      <td>2600</td>\n",
       "      <td>3.0</td>\n",
       "      <td>20</td>\n",
       "      <td>550000</td>\n",
       "    </tr>\n",
       "    <tr>\n",
       "      <th>1</th>\n",
       "      <td>3000</td>\n",
       "      <td>4.0</td>\n",
       "      <td>15</td>\n",
       "      <td>565000</td>\n",
       "    </tr>\n",
       "    <tr>\n",
       "      <th>2</th>\n",
       "      <td>3200</td>\n",
       "      <td>NaN</td>\n",
       "      <td>18</td>\n",
       "      <td>610000</td>\n",
       "    </tr>\n",
       "    <tr>\n",
       "      <th>3</th>\n",
       "      <td>3600</td>\n",
       "      <td>3.0</td>\n",
       "      <td>30</td>\n",
       "      <td>680000</td>\n",
       "    </tr>\n",
       "    <tr>\n",
       "      <th>4</th>\n",
       "      <td>4000</td>\n",
       "      <td>5.0</td>\n",
       "      <td>8</td>\n",
       "      <td>725000</td>\n",
       "    </tr>\n",
       "  </tbody>\n",
       "</table>\n",
       "</div>"
      ],
      "text/plain": [
       "   area  bedrooms  age   price\n",
       "0  2600       3.0   20  550000\n",
       "1  3000       4.0   15  565000\n",
       "2  3200       NaN   18  610000\n",
       "3  3600       3.0   30  680000\n",
       "4  4000       5.0    8  725000"
      ]
     },
     "execution_count": 2,
     "metadata": {},
     "output_type": "execute_result"
    }
   ],
   "source": [
    "#Setting up multi variables dataset (y=mx+c)\n",
    "#df = pd.read_csv(\"/path/to/csv\")\n",
    "#df = pd.read_excel(\"/path/to/excel\")\n",
    "data = {'area':  [2600,3000,3200,3600,4000],\n",
    "        'bedrooms': [3,4,None,3,5],\n",
    "        'age': [20,15,18,30,8],\n",
    "        'price': [550000,565000,610000,680000,725000]}\n",
    "\n",
    "df = pd.DataFrame(data)\n",
    "\n",
    "df"
   ]
  },
  {
   "cell_type": "code",
   "execution_count": 5,
   "id": "8088e65e",
   "metadata": {},
   "outputs": [
    {
     "name": "stdout",
     "output_type": "stream",
     "text": [
      "median_bedrooms=3\n"
     ]
    },
    {
     "data": {
      "text/html": [
       "<div>\n",
       "<style scoped>\n",
       "    .dataframe tbody tr th:only-of-type {\n",
       "        vertical-align: middle;\n",
       "    }\n",
       "\n",
       "    .dataframe tbody tr th {\n",
       "        vertical-align: top;\n",
       "    }\n",
       "\n",
       "    .dataframe thead th {\n",
       "        text-align: right;\n",
       "    }\n",
       "</style>\n",
       "<table border=\"1\" class=\"dataframe\">\n",
       "  <thead>\n",
       "    <tr style=\"text-align: right;\">\n",
       "      <th></th>\n",
       "      <th>area</th>\n",
       "      <th>bedrooms</th>\n",
       "      <th>age</th>\n",
       "      <th>price</th>\n",
       "    </tr>\n",
       "  </thead>\n",
       "  <tbody>\n",
       "    <tr>\n",
       "      <th>0</th>\n",
       "      <td>2600</td>\n",
       "      <td>3.0</td>\n",
       "      <td>20</td>\n",
       "      <td>550000</td>\n",
       "    </tr>\n",
       "    <tr>\n",
       "      <th>1</th>\n",
       "      <td>3000</td>\n",
       "      <td>4.0</td>\n",
       "      <td>15</td>\n",
       "      <td>565000</td>\n",
       "    </tr>\n",
       "    <tr>\n",
       "      <th>2</th>\n",
       "      <td>3200</td>\n",
       "      <td>3.0</td>\n",
       "      <td>18</td>\n",
       "      <td>610000</td>\n",
       "    </tr>\n",
       "    <tr>\n",
       "      <th>3</th>\n",
       "      <td>3600</td>\n",
       "      <td>3.0</td>\n",
       "      <td>30</td>\n",
       "      <td>680000</td>\n",
       "    </tr>\n",
       "    <tr>\n",
       "      <th>4</th>\n",
       "      <td>4000</td>\n",
       "      <td>5.0</td>\n",
       "      <td>8</td>\n",
       "      <td>725000</td>\n",
       "    </tr>\n",
       "  </tbody>\n",
       "</table>\n",
       "</div>"
      ],
      "text/plain": [
       "   area  bedrooms  age   price\n",
       "0  2600       3.0   20  550000\n",
       "1  3000       4.0   15  565000\n",
       "2  3200       3.0   18  610000\n",
       "3  3600       3.0   30  680000\n",
       "4  4000       5.0    8  725000"
      ]
     },
     "execution_count": 5,
     "metadata": {},
     "output_type": "execute_result"
    }
   ],
   "source": [
    "#Fill up empty values with median(cleaning dataset)\n",
    "import math\n",
    "median_bedrooms=math.floor(df.bedrooms.median())\n",
    "print(\"median_bedrooms=\"+str(median_bedrooms))\n",
    "df.bedrooms = df.bedrooms.fillna(median_bedrooms)\n",
    "df"
   ]
  },
  {
   "cell_type": "code",
   "execution_count": 8,
   "id": "c8ed1e56",
   "metadata": {},
   "outputs": [
    {
     "data": {
      "text/plain": [
       "LinearRegression()"
      ]
     },
     "execution_count": 8,
     "metadata": {},
     "output_type": "execute_result"
    }
   ],
   "source": [
    "#building model\n",
    "model = linear_model.LinearRegression()\n",
    "#can use also model.fit(df[['area','bedrooms','age']], axis='columns'),df.price)\n",
    "model.fit(df.drop('price', axis='columns'),df.price)"
   ]
  },
  {
   "cell_type": "code",
   "execution_count": 12,
   "id": "8e0a7646",
   "metadata": {},
   "outputs": [
    {
     "name": "stdout",
     "output_type": "stream",
     "text": [
      "mn = [  143.625 -6762.5     337.5  ] , c = 173112.5\n",
      "y = 143.62500000000003 area + -6762.500000000018 bedrooms + 337.4999999999982 age + 173112.5\n"
     ]
    }
   ],
   "source": [
    "#y=mx+c, showing results for all mn and c\n",
    "print(\"mn =\",model.coef_,\", c =\",model.intercept_)\n",
    "print(\"y =\",str(model.coef_[0]),\"area +\",str(model.coef_[1]),\"bedrooms +\",str(model.coef_[2]),\"age +\",str(model.intercept_))"
   ]
  },
  {
   "cell_type": "code",
   "execution_count": 13,
   "id": "6ad43bba",
   "metadata": {},
   "outputs": [
    {
     "data": {
      "text/plain": [
       "array([200975.])"
      ]
     },
     "execution_count": 13,
     "metadata": {},
     "output_type": "execute_result"
    }
   ],
   "source": [
    "#predict with three variables: area, bedrooms, age to get output price\n",
    "model.predict([[300,3,15]])"
   ]
  },
  {
   "cell_type": "code",
   "execution_count": null,
   "id": "0f0196f9",
   "metadata": {},
   "outputs": [],
   "source": [
    "#Summary:\n",
    "import pandas as pd\n",
    "import numpy as np\n",
    "from sklearn import linear_model\n",
    "\n",
    "#Setting up multi variables dataset (y=mx+c)\n",
    "#df = pd.read_csv(\"/path/to/csv\")\n",
    "#df = pd.read_excel(\"/path/to/excel\")\n",
    "data = {'area':  [2600,3000,3200,3600,4000],\n",
    "        'bedrooms': [3,4,None,3,5],\n",
    "        'age': [20,15,18,30,8],\n",
    "        'price': [550000,565000,610000,680000,725000]}\n",
    "\n",
    "df = pd.DataFrame(data)\n",
    "\n",
    "#clean dataset\n",
    "import math\n",
    "median_bedrooms=math.floor(df.bedrooms.median())\n",
    "print(\"median_bedrooms=\"+str(median_bedrooms))\n",
    "df.bedrooms = df.bedrooms.fillna(median_bedrooms)\n",
    "\n",
    "model = linear_model.LinearRegression()\n",
    "#can use also model.fit(df[['area','bedrooms','age']], axis='columns'),df.price)\n",
    "model.fit(df.drop('price', axis='columns'),df.price)\n",
    "\n",
    "model.predict([[300,3,15]])"
   ]
  }
 ],
 "metadata": {
  "kernelspec": {
   "display_name": "Python 3",
   "language": "python",
   "name": "python3"
  },
  "language_info": {
   "codemirror_mode": {
    "name": "ipython",
    "version": 3
   },
   "file_extension": ".py",
   "mimetype": "text/x-python",
   "name": "python",
   "nbconvert_exporter": "python",
   "pygments_lexer": "ipython3",
   "version": "3.6.9"
  }
 },
 "nbformat": 4,
 "nbformat_minor": 5
}
